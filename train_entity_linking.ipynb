{
 "cells": [
  {
   "cell_type": "code",
   "execution_count": null,
   "metadata": {},
   "outputs": [],
   "source": [
    "#text------>NER mentions----->candidate_generation------->Entity_Linking"
   ]
  },
  {
   "cell_type": "code",
   "execution_count": null,
   "metadata": {},
   "outputs": [],
   "source": [
    "# - create a knowledge Base\n",
    "# - train an entity linker"
   ]
  },
  {
   "cell_type": "code",
   "execution_count": null,
   "metadata": {},
   "outputs": [],
   "source": [
    "import pandas as pd"
   ]
  },
  {
   "cell_type": "code",
   "execution_count": 2,
   "metadata": {},
   "outputs": [],
   "source": [
    "df_gold = pd.read_json(\"./news_articles-gold.jsonl\",lines=True)"
   ]
  },
  {
   "cell_type": "code",
   "execution_count": 3,
   "metadata": {},
   "outputs": [],
   "source": [
    "companies_df = pd.read_json(\"./company_collection.json\")"
   ]
  },
  {
   "cell_type": "code",
   "execution_count": 18,
   "metadata": {},
   "outputs": [],
   "source": [
    "def load_entities():\n",
    "    companies_df = pd.read_json(\"./company_collection.json\")\n",
    "    names = {}\n",
    "    descriptions = {}\n",
    "    for _,row in companies_df.iterrows():\n",
    "        url = row[\"url\"]\n",
    "        name = row[\"name\"]\n",
    "        description = row[\"industry_label\"]+\" \"+row[\"headquarters\"]+\" \"+row[\"description\"]\n",
    "        names[url] = name\n",
    "        descriptions[url] = description\n",
    "    return names,descriptions"
   ]
  },
  {
   "cell_type": "code",
   "execution_count": 5,
   "metadata": {},
   "outputs": [],
   "source": [
    "names,descriptions = load_entities()"
   ]
  },
  {
   "cell_type": "code",
   "execution_count": 6,
   "metadata": {},
   "outputs": [
    {
     "name": "stderr",
     "output_type": "stream",
     "text": [
      "/Users/vibha/anaconda3/envs/delpai-env/lib/python3.9/site-packages/tqdm/auto.py:21: TqdmWarning: IProgress not found. Please update jupyter and ipywidgets. See https://ipywidgets.readthedocs.io/en/stable/user_install.html\n",
      "  from .autonotebook import tqdm as notebook_tqdm\n"
     ]
    }
   ],
   "source": [
    "#Setup Knowledge base of companies\n",
    "import spacy\n",
    "from spacy.kb import KnowledgeBase,InMemoryLookupKB\n",
    "nlp = spacy.load('en_core_web_lg')"
   ]
  },
  {
   "cell_type": "code",
   "execution_count": 7,
   "metadata": {},
   "outputs": [],
   "source": [
    "kb= InMemoryLookupKB(vocab=nlp.vocab,entity_vector_length=300)"
   ]
  },
  {
   "cell_type": "code",
   "execution_count": 8,
   "metadata": {},
   "outputs": [],
   "source": [
    "#Add the descriptions into the Knowledge base\n",
    "for url,desc in descriptions.items():\n",
    "    #print(url)\n",
    "    desc_doc = nlp(desc)\n",
    "    desc_enc = desc_doc.vector\n",
    "    kb.add_entity(entity=url,entity_vector=desc_enc,freq=342)\n",
    "    "
   ]
  },
  {
   "cell_type": "code",
   "execution_count": null,
   "metadata": {},
   "outputs": [],
   "source": [
    "#Add the alias into the kb\n",
    "for url,name in names.items():\n",
    "    kb.add_alias(alias=name,entities=[url],probabilities=[1])"
   ]
  },
  {
   "cell_type": "code",
   "execution_count": 10,
   "metadata": {},
   "outputs": [],
   "source": [
    "from pathlib import Path"
   ]
  },
  {
   "cell_type": "code",
   "execution_count": 70,
   "metadata": {},
   "outputs": [],
   "source": [
    "# output_dir = Path.cwd().parent / \"output\"\n",
    "# kb.to_disk(output_dir/\"my_kb\")\n",
    "# nlp.to_disk(output_dir/\"my_nlp\")\n"
   ]
  },
  {
   "cell_type": "code",
   "execution_count": null,
   "metadata": {},
   "outputs": [],
   "source": [
    "#how do you train this model"
   ]
  },
  {
   "cell_type": "code",
   "execution_count": 10,
   "metadata": {},
   "outputs": [],
   "source": [
    "#Prepare dataset to train the model\n",
    "dataset = []\n",
    "for _,row in df_gold.iterrows():\n",
    "    annotations = row[\"annotations\"]\n",
    "    text = row[\"text\"]\n",
    "    for entity,url in annotations.items():\n",
    "        #print(url)\n",
    "        start = text.find(entity)\n",
    "        end = start+len(entity)\n",
    "        offset = (start,end)\n",
    "        links_dict = {url:1.0}\n",
    "        dataset.append((text,{\"links\":{offset:links_dict}}))"
   ]
  },
  {
   "cell_type": "code",
   "execution_count": 22,
   "metadata": {},
   "outputs": [
    {
     "data": {
      "text/plain": [
       "[('Report: Adam Neumann, Benchmark Unloaded $676.5M In WeWork Shares Before Failed IPO. The more we learn about the WeWork debacle, the more head-scratching it gets. Subscribe to the Crunchbase Daily According to a news report from The Telegraph, WeWork co-founder and ousted CEO Adam Neumann unloaded $361 million worth of shares when Japanese investment conglomerate SoftBank first invested in the company in 2017. And he wasn’t the only one. The Telegraph reports that Benchmark , which was WeWorks’ first major investor, also cashed out at the time. It apparently “sold $315.5m in shares during the 2017 deal and a later SoftBank investment in 2019,” the news article reveals. Specifically, according to Crunchbase, Benchmark led WeWork’s $17 million Series A (ironically some may say) on April 1, 2012. This means that WeWork’s largest shareholders’ (previously undisclosed) sell-offs made up nearly one-third of the $2.3 billion worth of shares SoftBank bought from insiders right before the company was set to go public in 2019. The practice of early investors getting rid of their shares before an IPO is not an illegal one but, as The Telegraph and others on Twitter acknowledge, it’s not exactly typical. I mean, don’t most people hope a company goes public at a higher valuation so that they will make even more money? As The Wall Street Journal reporter Eliot Brown points out , a few other high-profile companies (Zynga, Groupon and Blue Apron) also saw their founders/CEOs sell a larger number of shares. In each of those cases, he said, the companies’ IPO prices were lower. For those of you who haven’t been following the WeWork saga, the company decided to cancel its IPO last September. At that point, SoftBank agreed to a $9.5 billion bailout of the company in a deal that included buying $3 billion worth of shares from existing investors at a $10 billion valuation. This was significantly less than the $47 billion valuation at which SoftBank purchased shares in 2019, noted The Telegraph. Earlier this month, our own Sophia Kunthara reported that SoftBank had withdrawn its $3 billion tender offer for WeWork shares, citing conditions of the offer not being satisfied. Also today, SoftBank Group forecast a net loss of $7 billion for the fiscal year ended March due to the negative impact of coronavirus and losses related to WeWork, AFP reported . Illustration: Li-Anne Dias',\n",
       "  {'links': {(52, 58): {'wework.com': 1.0}}}),\n",
       " ('Report: Adam Neumann, Benchmark Unloaded $676.5M In WeWork Shares Before Failed IPO. The more we learn about the WeWork debacle, the more head-scratching it gets. Subscribe to the Crunchbase Daily According to a news report from The Telegraph, WeWork co-founder and ousted CEO Adam Neumann unloaded $361 million worth of shares when Japanese investment conglomerate SoftBank first invested in the company in 2017. And he wasn’t the only one. The Telegraph reports that Benchmark , which was WeWorks’ first major investor, also cashed out at the time. It apparently “sold $315.5m in shares during the 2017 deal and a later SoftBank investment in 2019,” the news article reveals. Specifically, according to Crunchbase, Benchmark led WeWork’s $17 million Series A (ironically some may say) on April 1, 2012. This means that WeWork’s largest shareholders’ (previously undisclosed) sell-offs made up nearly one-third of the $2.3 billion worth of shares SoftBank bought from insiders right before the company was set to go public in 2019. The practice of early investors getting rid of their shares before an IPO is not an illegal one but, as The Telegraph and others on Twitter acknowledge, it’s not exactly typical. I mean, don’t most people hope a company goes public at a higher valuation so that they will make even more money? As The Wall Street Journal reporter Eliot Brown points out , a few other high-profile companies (Zynga, Groupon and Blue Apron) also saw their founders/CEOs sell a larger number of shares. In each of those cases, he said, the companies’ IPO prices were lower. For those of you who haven’t been following the WeWork saga, the company decided to cancel its IPO last September. At that point, SoftBank agreed to a $9.5 billion bailout of the company in a deal that included buying $3 billion worth of shares from existing investors at a $10 billion valuation. This was significantly less than the $47 billion valuation at which SoftBank purchased shares in 2019, noted The Telegraph. Earlier this month, our own Sophia Kunthara reported that SoftBank had withdrawn its $3 billion tender offer for WeWork shares, citing conditions of the offer not being satisfied. Also today, SoftBank Group forecast a net loss of $7 billion for the fiscal year ended March due to the negative impact of coronavirus and losses related to WeWork, AFP reported . Illustration: Li-Anne Dias',\n",
       "  {'links': {(22, 31): {'benchmark.com': 1.0}}}),\n",
       " ('Report: Adam Neumann, Benchmark Unloaded $676.5M In WeWork Shares Before Failed IPO. The more we learn about the WeWork debacle, the more head-scratching it gets. Subscribe to the Crunchbase Daily According to a news report from The Telegraph, WeWork co-founder and ousted CEO Adam Neumann unloaded $361 million worth of shares when Japanese investment conglomerate SoftBank first invested in the company in 2017. And he wasn’t the only one. The Telegraph reports that Benchmark , which was WeWorks’ first major investor, also cashed out at the time. It apparently “sold $315.5m in shares during the 2017 deal and a later SoftBank investment in 2019,” the news article reveals. Specifically, according to Crunchbase, Benchmark led WeWork’s $17 million Series A (ironically some may say) on April 1, 2012. This means that WeWork’s largest shareholders’ (previously undisclosed) sell-offs made up nearly one-third of the $2.3 billion worth of shares SoftBank bought from insiders right before the company was set to go public in 2019. The practice of early investors getting rid of their shares before an IPO is not an illegal one but, as The Telegraph and others on Twitter acknowledge, it’s not exactly typical. I mean, don’t most people hope a company goes public at a higher valuation so that they will make even more money? As The Wall Street Journal reporter Eliot Brown points out , a few other high-profile companies (Zynga, Groupon and Blue Apron) also saw their founders/CEOs sell a larger number of shares. In each of those cases, he said, the companies’ IPO prices were lower. For those of you who haven’t been following the WeWork saga, the company decided to cancel its IPO last September. At that point, SoftBank agreed to a $9.5 billion bailout of the company in a deal that included buying $3 billion worth of shares from existing investors at a $10 billion valuation. This was significantly less than the $47 billion valuation at which SoftBank purchased shares in 2019, noted The Telegraph. Earlier this month, our own Sophia Kunthara reported that SoftBank had withdrawn its $3 billion tender offer for WeWork shares, citing conditions of the offer not being satisfied. Also today, SoftBank Group forecast a net loss of $7 billion for the fiscal year ended March due to the negative impact of coronavirus and losses related to WeWork, AFP reported . Illustration: Li-Anne Dias',\n",
       "  {'links': {(1424, 1429): {'zynga.com': 1.0}}}),\n",
       " ('Report: Adam Neumann, Benchmark Unloaded $676.5M In WeWork Shares Before Failed IPO. The more we learn about the WeWork debacle, the more head-scratching it gets. Subscribe to the Crunchbase Daily According to a news report from The Telegraph, WeWork co-founder and ousted CEO Adam Neumann unloaded $361 million worth of shares when Japanese investment conglomerate SoftBank first invested in the company in 2017. And he wasn’t the only one. The Telegraph reports that Benchmark , which was WeWorks’ first major investor, also cashed out at the time. It apparently “sold $315.5m in shares during the 2017 deal and a later SoftBank investment in 2019,” the news article reveals. Specifically, according to Crunchbase, Benchmark led WeWork’s $17 million Series A (ironically some may say) on April 1, 2012. This means that WeWork’s largest shareholders’ (previously undisclosed) sell-offs made up nearly one-third of the $2.3 billion worth of shares SoftBank bought from insiders right before the company was set to go public in 2019. The practice of early investors getting rid of their shares before an IPO is not an illegal one but, as The Telegraph and others on Twitter acknowledge, it’s not exactly typical. I mean, don’t most people hope a company goes public at a higher valuation so that they will make even more money? As The Wall Street Journal reporter Eliot Brown points out , a few other high-profile companies (Zynga, Groupon and Blue Apron) also saw their founders/CEOs sell a larger number of shares. In each of those cases, he said, the companies’ IPO prices were lower. For those of you who haven’t been following the WeWork saga, the company decided to cancel its IPO last September. At that point, SoftBank agreed to a $9.5 billion bailout of the company in a deal that included buying $3 billion worth of shares from existing investors at a $10 billion valuation. This was significantly less than the $47 billion valuation at which SoftBank purchased shares in 2019, noted The Telegraph. Earlier this month, our own Sophia Kunthara reported that SoftBank had withdrawn its $3 billion tender offer for WeWork shares, citing conditions of the offer not being satisfied. Also today, SoftBank Group forecast a net loss of $7 billion for the fiscal year ended March due to the negative impact of coronavirus and losses related to WeWork, AFP reported . Illustration: Li-Anne Dias',\n",
       "  {'links': {(1431, 1438): {'groupon.com': 1.0}}}),\n",
       " ('Report: Adam Neumann, Benchmark Unloaded $676.5M In WeWork Shares Before Failed IPO. The more we learn about the WeWork debacle, the more head-scratching it gets. Subscribe to the Crunchbase Daily According to a news report from The Telegraph, WeWork co-founder and ousted CEO Adam Neumann unloaded $361 million worth of shares when Japanese investment conglomerate SoftBank first invested in the company in 2017. And he wasn’t the only one. The Telegraph reports that Benchmark , which was WeWorks’ first major investor, also cashed out at the time. It apparently “sold $315.5m in shares during the 2017 deal and a later SoftBank investment in 2019,” the news article reveals. Specifically, according to Crunchbase, Benchmark led WeWork’s $17 million Series A (ironically some may say) on April 1, 2012. This means that WeWork’s largest shareholders’ (previously undisclosed) sell-offs made up nearly one-third of the $2.3 billion worth of shares SoftBank bought from insiders right before the company was set to go public in 2019. The practice of early investors getting rid of their shares before an IPO is not an illegal one but, as The Telegraph and others on Twitter acknowledge, it’s not exactly typical. I mean, don’t most people hope a company goes public at a higher valuation so that they will make even more money? As The Wall Street Journal reporter Eliot Brown points out , a few other high-profile companies (Zynga, Groupon and Blue Apron) also saw their founders/CEOs sell a larger number of shares. In each of those cases, he said, the companies’ IPO prices were lower. For those of you who haven’t been following the WeWork saga, the company decided to cancel its IPO last September. At that point, SoftBank agreed to a $9.5 billion bailout of the company in a deal that included buying $3 billion worth of shares from existing investors at a $10 billion valuation. This was significantly less than the $47 billion valuation at which SoftBank purchased shares in 2019, noted The Telegraph. Earlier this month, our own Sophia Kunthara reported that SoftBank had withdrawn its $3 billion tender offer for WeWork shares, citing conditions of the offer not being satisfied. Also today, SoftBank Group forecast a net loss of $7 billion for the fiscal year ended March due to the negative impact of coronavirus and losses related to WeWork, AFP reported . Illustration: Li-Anne Dias',\n",
       "  {'links': {(2200, 2214): {'group.softbank': 1.0}}})]"
      ]
     },
     "execution_count": 22,
     "metadata": {},
     "output_type": "execute_result"
    }
   ],
   "source": [
    "dataset[:5]"
   ]
  },
  {
   "cell_type": "code",
   "execution_count": 11,
   "metadata": {},
   "outputs": [],
   "source": [
    "TRAIN_DOCS = []\n",
    "for text, annotation in dataset:\n",
    "    doc = nlp(text)\n",
    "    TRAIN_DOCS.append((doc, annotation))"
   ]
  },
  {
   "cell_type": "code",
   "execution_count": 13,
   "metadata": {},
   "outputs": [],
   "source": [
    "def create_kb(vocab):\n",
    "        # print(vocab)\n",
    "        # print(kb)\n",
    "        # kb = InMemoryLookupKB(vocab=vocab, entity_vector_length=300)\n",
    "\n",
    "        # for url,desc in descriptions.items():\n",
    "        #     desc_doc = nlp(desc)\n",
    "        #     desc_enc = desc_doc.vector\n",
    "        #     kb.add_entity(entity=url,entity_vector=desc_enc,freq=342)\n",
    "        # for url,name in names.items():\n",
    "        #     kb.add_alias(alias=name,entities=[url],probabilities=[1])\n",
    "        \n",
    "        return kb\n",
    "        \n",
    "        \n",
    "\n",
    "entity_linker = nlp.add_pipe(\"entity_linker\", config={\"incl_prior\": False})\n",
    "entity_linker.set_kb(create_kb)"
   ]
  },
  {
   "cell_type": "code",
   "execution_count": null,
   "metadata": {},
   "outputs": [],
   "source": [
    "#Train the entity linking module\n",
    "from spacy.util import minibatch, compounding\n",
    "from spacy.training.example import Example\n",
    "import random\n",
    "\n",
    "other_pipes = [pipe for pipe in nlp.pipe_names if pipe != \"entity_linker\"]\n",
    "with nlp.disable_pipes(*other_pipes):   # train only the entity_linker\n",
    "    optimizer = nlp.create_optimizer()\n",
    "    for itn in range(500):   # 500 iterations takes about a minute to train\n",
    "        random.shuffle(TRAIN_DOCS)\n",
    "        batches = minibatch(TRAIN_DOCS, size=compounding(4.0, 32.0, 1.001))  # increasing batch sizes\n",
    "        losses = {}\n",
    "        for batch in batches:\n",
    "            for text,annotations in batch:\n",
    "                #doc = nlp.make_doc(text)\n",
    "                example = Example.from_dict(text, annotations)\n",
    "                nlp.update([example], losses=losses, drop=0.3,sgd=optimizer)\n",
    "        if itn % 50 == 0:\n",
    "            print(itn, \"Losses\", losses)   # print the training loss\n",
    "print(itn, \"Losses\", losses)"
   ]
  },
  {
   "cell_type": "code",
   "execution_count": null,
   "metadata": {},
   "outputs": [],
   "source": [
    "print(f\"Entities in the KB: {kb.get_entity_strings()}\")\n",
    "print(f\"Aliases in the KB: {kb.get_alias_strings()}\")"
   ]
  },
  {
   "cell_type": "code",
   "execution_count": 17,
   "metadata": {},
   "outputs": [],
   "source": [
    "# text = df_gold[\"text\"][0]\n",
    "# print(text)\n",
    "# doc = nlp(text)\n",
    "# for ent in doc.ents:\n",
    "#     if ent.label_==\"ORG\":\n",
    "#         print(ent.text, ent.label_, ent.kb_id)"
   ]
  }
 ],
 "metadata": {
  "kernelspec": {
   "display_name": "delpai-env",
   "language": "python",
   "name": "python3"
  },
  "language_info": {
   "codemirror_mode": {
    "name": "ipython",
    "version": 3
   },
   "file_extension": ".py",
   "mimetype": "text/x-python",
   "name": "python",
   "nbconvert_exporter": "python",
   "pygments_lexer": "ipython3",
   "version": "3.9.18"
  }
 },
 "nbformat": 4,
 "nbformat_minor": 2
}
