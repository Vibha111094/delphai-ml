{
 "cells": [
  {
   "cell_type": "code",
   "execution_count": null,
   "metadata": {},
   "outputs": [],
   "source": [
    "import pandas as pd"
   ]
  },
  {
   "cell_type": "code",
   "execution_count": 3,
   "metadata": {},
   "outputs": [
    {
     "name": "stderr",
     "output_type": "stream",
     "text": [
      "/Users/vibha/anaconda3/envs/delpai-env/lib/python3.9/site-packages/tqdm/auto.py:21: TqdmWarning: IProgress not found. Please update jupyter and ipywidgets. See https://ipywidgets.readthedocs.io/en/stable/user_install.html\n",
      "  from .autonotebook import tqdm as notebook_tqdm\n"
     ]
    }
   ],
   "source": [
    "#load a NER pipeline\n",
    "import spacy\n",
    "nlp = spacy.load('en_core_web_trf')"
   ]
  },
  {
   "cell_type": "code",
   "execution_count": 5,
   "metadata": {},
   "outputs": [],
   "source": [
    "#function to extract company names\n",
    "def find_org_entities(text:str):\n",
    "    #text = remove_punctuation(text)\n",
    "    doc = nlp(text)\n",
    "    org_list = []\n",
    "    for word in doc.ents:\n",
    "        if(word.label_==\"ORG\"):\n",
    "            org_list.append(word.text)\n",
    "    return set(org_list)"
   ]
  },
  {
   "cell_type": "code",
   "execution_count": 22,
   "metadata": {},
   "outputs": [],
   "source": [
    "#simple function to perform a look-up based entity linking\n",
    "def entity_linking_simple(org_list):\n",
    "    annotations_pred = {}\n",
    "    companies_df = pd.read_json(\"./company_collection.json\")\n",
    "    companies_df['name_clean'] = companies_df['name'].str.lower()\n",
    "    companies_df['name_clean'] = companies_df['name_clean'].str.strip()\n",
    "    for org in org_list:\n",
    "        org_clean = org.lower().strip()\n",
    "        if org_clean in companies_df['name_clean'].to_list():\n",
    "            annotations_pred[org] = companies_df[companies_df.name_clean==org_clean][\"url\"].to_list()[0]\n",
    "        else:\n",
    "            annotations_pred[org] = \"\"\n",
    "    return annotations_pred "
   ]
  },
  {
   "cell_type": "code",
   "execution_count": 23,
   "metadata": {},
   "outputs": [],
   "source": [
    "df_new = pd.read_json(\"./news_articles-new.jsonl\",lines=True)"
   ]
  },
  {
   "cell_type": "code",
   "execution_count": 24,
   "metadata": {},
   "outputs": [],
   "source": [
    "annotations_pred_list = []\n",
    "for _,row in df_new.iterrows():\n",
    "    org_list = find_org_entities(row['text'])\n",
    "    annotations_pred =  entity_linking_simple(org_list)\n",
    "    annotations_pred_list.append(annotations_pred)\n",
    "df_new['annotations'] = annotations_pred_list"
   ]
  },
  {
   "cell_type": "code",
   "execution_count": 25,
   "metadata": {},
   "outputs": [],
   "source": [
    "df_new.to_json(\"news_articles-linked.jsonl\",lines=True,orient='records')"
   ]
  },
  {
   "cell_type": "code",
   "execution_count": 30,
   "metadata": {},
   "outputs": [
    {
     "data": {
      "text/plain": [
       "{'FOSSA': 'fossa.io',\n",
       " 'Index Ventures': '',\n",
       " 'RethinkDB': 'rethinkdb.com',\n",
       " 'SnapRoute': '',\n",
       " 'Microsoft': 'azure.microsoft.com/en-gb/marketplace',\n",
       " 'Salesforce': '',\n",
       " 'Bloq': 'bloq.com',\n",
       " 'Skry': 'skry.me',\n",
       " 'the Digital Currency Group': '',\n",
       " 'Confluent': 'beconfluent.com',\n",
       " 'Crunchbase': 'crunchbase.com',\n",
       " 'Norwest Venture Partners': '',\n",
       " 'Mozilla': 'mozilla.com',\n",
       " 'Blockstack': 'blockstack.org',\n",
       " 'Magento': 'magentocommerce.com',\n",
       " 'AT&T': 'about.att.com',\n",
       " 'Hillhouse Capital Group': '',\n",
       " 'Keymetrics': 'keymetrics.io',\n",
       " 'Bain Capital Ventures': '',\n",
       " 'Engine Yard': 'engineyard.com',\n",
       " 'AngelList': 'angel.co',\n",
       " 'the Cloud Native Computing Foundation': '',\n",
       " 'Lightspeed Venture Partners': '',\n",
       " 'Union Square Ventures': '',\n",
       " 'Microsoft Ventures': 'blogs.technet.com',\n",
       " 'Sequoia': 'sequoia.bio',\n",
       " 'Deis': 'engineyard.com/deis'}"
      ]
     },
     "execution_count": 30,
     "metadata": {},
     "output_type": "execute_result"
    }
   ],
   "source": [
    "df_new.iloc[3]['annotations']"
   ]
  },
  {
   "cell_type": "code",
   "execution_count": 106,
   "metadata": {},
   "outputs": [],
   "source": [
    "#Evaluate over the golden set"
   ]
  },
  {
   "cell_type": "code",
   "execution_count": 31,
   "metadata": {},
   "outputs": [],
   "source": [
    "df_gold = pd.read_json(\"./news_articles-gold.jsonl\",lines=True)"
   ]
  },
  {
   "cell_type": "code",
   "execution_count": 32,
   "metadata": {},
   "outputs": [],
   "source": [
    "annotations_pred_list = []\n",
    "for _,row in df_gold.iterrows():\n",
    "    org_list = find_org_entities(row['text'])\n",
    "    annotations_pred = entity_linking_simple(org_list)\n",
    "    annotations_pred_list.append(annotations_pred)\n",
    "df_gold['annotations_pred'] = annotations_pred_list"
   ]
  },
  {
   "cell_type": "code",
   "execution_count": 34,
   "metadata": {},
   "outputs": [
    {
     "data": {
      "text/plain": [
       "{'WeWork': 'wework.com',\n",
       " 'Benchmark': 'benchmark.com',\n",
       " 'Zynga': 'zynga.com',\n",
       " 'Groupon': 'groupon.com',\n",
       " 'SoftBank Group': 'group.softbank',\n",
       " 'WeWorks': 'wework.com',\n",
       " 'SoftBank': 'group.softbank',\n",
       " 'Blue Apron': 'blueapron.com'}"
      ]
     },
     "execution_count": 34,
     "metadata": {},
     "output_type": "execute_result"
    }
   ],
   "source": [
    "df_gold[\"annotations\"][0]"
   ]
  },
  {
   "cell_type": "code",
   "execution_count": 35,
   "metadata": {},
   "outputs": [
    {
     "data": {
      "text/plain": [
       "{'SoftBank': 'softbank.jp',\n",
       " 'Twitter': 'twitter.com',\n",
       " 'Blue Apron': 'blueapron.com',\n",
       " 'The Telegraph': '',\n",
       " 'WeWorks': '',\n",
       " 'The Wall Street Journal': '',\n",
       " 'Zynga': 'zynga.com',\n",
       " 'WeWork': 'wework.com',\n",
       " 'Telegraph': '',\n",
       " 'AFP': '',\n",
       " 'Groupon': 'groupon.com',\n",
       " 'Benchmark': 'benchmark.com',\n",
       " 'SoftBank Group': 'group.softbank',\n",
       " 'Crunchbase': 'crunchbase.com',\n",
       " 'the Crunchbase Daily': ''}"
      ]
     },
     "execution_count": 35,
     "metadata": {},
     "output_type": "execute_result"
    }
   ],
   "source": [
    "df_gold[\"annotations_pred\"][0]"
   ]
  },
  {
   "cell_type": "code",
   "execution_count": 39,
   "metadata": {},
   "outputs": [],
   "source": [
    "import numpy as np"
   ]
  },
  {
   "cell_type": "code",
   "execution_count": 40,
   "metadata": {},
   "outputs": [],
   "source": [
    "def evaluate(df_gold):\n",
    "    ner_score_list = []\n",
    "    nel_score_list = []\n",
    "    for _,row in df_gold.iterrows():\n",
    "        common_keys = set(row['annotations']).intersection(row['annotations_pred'])\n",
    "        ner_recall = len(common_keys)/len(df_gold['annotations'][0])\n",
    "        ner_score_list.append(ner_recall)\n",
    "        original_entity_list = []\n",
    "        pred_entity_list = []\n",
    "        tp = 0\n",
    "        for common_key in common_keys:\n",
    "            original_entity = row['annotations'][common_key]\n",
    "            pred_entity = row['annotations_pred'][common_key]\n",
    "            if (original_entity==pred_entity):\n",
    "                tp += 1\n",
    "            original_entity_list.append(original_entity)\n",
    "            pred_entity_list.append(pred_entity)\n",
    "        nel_presion = tp/len(common_keys)\n",
    "        nel_score_list.append(nel_presion)       \n",
    "    return np.mean(ner_score_list), np.mean(nel_score_list)"
   ]
  },
  {
   "cell_type": "code",
   "execution_count": 41,
   "metadata": {},
   "outputs": [],
   "source": [
    "ner_score, nel_score= evaluate(df_gold)"
   ]
  },
  {
   "cell_type": "code",
   "execution_count": 42,
   "metadata": {},
   "outputs": [
    {
     "data": {
      "text/plain": [
       "(0.540625, 0.5816666666666667)"
      ]
     },
     "execution_count": 42,
     "metadata": {},
     "output_type": "execute_result"
    }
   ],
   "source": [
    "ner_score, nel_score"
   ]
  }
 ],
 "metadata": {
  "kernelspec": {
   "display_name": "delpai-env",
   "language": "python",
   "name": "python3"
  },
  "language_info": {
   "codemirror_mode": {
    "name": "ipython",
    "version": 3
   },
   "file_extension": ".py",
   "mimetype": "text/x-python",
   "name": "python",
   "nbconvert_exporter": "python",
   "pygments_lexer": "ipython3",
   "version": "3.9.18"
  }
 },
 "nbformat": 4,
 "nbformat_minor": 2
}
